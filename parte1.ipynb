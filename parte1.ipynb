{
 "cells": [
  {
   "cell_type": "code",
   "execution_count": 1,
   "metadata": {},
   "outputs": [],
   "source": [
    "import pandas as pd\n",
    "from scapy.all import *\n",
    "import matplotlib.pyplot as plt\n",
    "\n",
    "pcap = rdpcap(\"analisis_paquetes.pcap\")"
   ]
  },
  {
   "cell_type": "code",
   "execution_count": 2,
   "metadata": {},
   "outputs": [],
   "source": [
    "packets = sniff(count= 10) + pcap"
   ]
  },
  {
   "cell_type": "code",
   "execution_count": 3,
   "metadata": {},
   "outputs": [
    {
     "data": {
      "text/html": [
       "<div>\n",
       "<style scoped>\n",
       "    .dataframe tbody tr th:only-of-type {\n",
       "        vertical-align: middle;\n",
       "    }\n",
       "\n",
       "    .dataframe tbody tr th {\n",
       "        vertical-align: top;\n",
       "    }\n",
       "\n",
       "    .dataframe thead th {\n",
       "        text-align: right;\n",
       "    }\n",
       "</style>\n",
       "<table border=\"1\" class=\"dataframe\">\n",
       "  <thead>\n",
       "    <tr style=\"text-align: right;\">\n",
       "      <th></th>\n",
       "      <th>sourcePort</th>\n",
       "      <th>destinationPort</th>\n",
       "      <th>messageLength</th>\n",
       "      <th>source</th>\n",
       "      <th>destination</th>\n",
       "    </tr>\n",
       "  </thead>\n",
       "  <tbody>\n",
       "    <tr>\n",
       "      <th>0</th>\n",
       "      <td>57733</td>\n",
       "      <td>443</td>\n",
       "      <td>0</td>\n",
       "      <td>172.10.10.187</td>\n",
       "      <td>52.168.117.169</td>\n",
       "    </tr>\n",
       "    <tr>\n",
       "      <th>1</th>\n",
       "      <td>57734</td>\n",
       "      <td>443</td>\n",
       "      <td>0</td>\n",
       "      <td>172.10.10.187</td>\n",
       "      <td>52.168.117.169</td>\n",
       "    </tr>\n",
       "    <tr>\n",
       "      <th>2</th>\n",
       "      <td>57735</td>\n",
       "      <td>443</td>\n",
       "      <td>0</td>\n",
       "      <td>172.10.10.187</td>\n",
       "      <td>52.168.117.169</td>\n",
       "    </tr>\n",
       "    <tr>\n",
       "      <th>3</th>\n",
       "      <td>443</td>\n",
       "      <td>57733</td>\n",
       "      <td>0</td>\n",
       "      <td>52.168.117.169</td>\n",
       "      <td>172.10.10.187</td>\n",
       "    </tr>\n",
       "    <tr>\n",
       "      <th>4</th>\n",
       "      <td>57733</td>\n",
       "      <td>443</td>\n",
       "      <td>0</td>\n",
       "      <td>172.10.10.187</td>\n",
       "      <td>52.168.117.169</td>\n",
       "    </tr>\n",
       "  </tbody>\n",
       "</table>\n",
       "</div>"
      ],
      "text/plain": [
       "   sourcePort  destinationPort  messageLength          source     destination\n",
       "0       57733              443              0   172.10.10.187  52.168.117.169\n",
       "1       57734              443              0   172.10.10.187  52.168.117.169\n",
       "2       57735              443              0   172.10.10.187  52.168.117.169\n",
       "3         443            57733              0  52.168.117.169   172.10.10.187\n",
       "4       57733              443              0   172.10.10.187  52.168.117.169"
      ]
     },
     "execution_count": 3,
     "metadata": {},
     "output_type": "execute_result"
    }
   ],
   "source": [
    "\n",
    "packetsData = []\n",
    "\n",
    "for pkt in packets:\n",
    "    packetInfo = {}\n",
    "    \n",
    "    if pkt.haslayer(UDP):\n",
    "        packetInfo[\"sourcePort\"] = pkt[UDP].sport\n",
    "        packetInfo[\"destinationPort\"] = pkt[UDP].dport\n",
    "        packetInfo[\"messageLength\"] = len(pkt[UDP].payload)\n",
    "\n",
    "    elif pkt.haslayer(TCP):\n",
    "        packetInfo[\"sourcePort\"] = pkt[TCP].sport\n",
    "        packetInfo[\"destinationPort\"] = pkt[TCP].dport\n",
    "        packetInfo[\"messageLength\"] = len(pkt[TCP].payload)\n",
    "    \n",
    "    packetInfo[\"source\"] = pkt[IP].src\n",
    "    packetInfo[\"destination\"] = pkt[IP].dst\n",
    "    \n",
    "    packetsData.append(packetInfo)\n",
    " \n",
    "df = pd.DataFrame(packetsData)\n",
    "df.head()  "
   ]
  },
  {
   "cell_type": "code",
   "execution_count": 4,
   "metadata": {},
   "outputs": [
    {
     "name": "stdout",
     "output_type": "stream",
     "text": [
      "Direccion origen mas frecuente 10.1.10.53\n",
      "Direccion destino mas frecuente 10.1.10.53\n"
     ]
    }
   ],
   "source": [
    "popularSource = df[\"source\"].value_counts().idxmax()\n",
    "popularDestionation = df[\"destination\"].value_counts().idxmax()\n",
    "\n",
    "print(\"Direccion origen mas frecuente\", popularSource)\n",
    "print(\"Direccion destino mas frecuente\", popularDestionation)"
   ]
  },
  {
   "cell_type": "code",
   "execution_count": 5,
   "metadata": {},
   "outputs": [
    {
     "name": "stdout",
     "output_type": "stream",
     "text": [
      "        source  destination  destinationPort\n",
      "10  10.1.10.53  84.54.22.33               53\n",
      "12  10.1.10.53  84.54.22.33               53\n",
      "14  10.1.10.53  84.54.22.33               53\n",
      "16  10.1.10.53  84.54.22.33               53\n",
      "18  10.1.10.53  84.54.22.33               53\n",
      "20  10.1.10.53  84.54.22.33               53\n",
      "22  10.1.10.53  84.54.22.33               53\n",
      "24  10.1.10.53  84.54.22.33               53\n",
      "26  10.1.10.53  84.54.22.33               53\n",
      "28  10.1.10.53  84.54.22.33               53\n",
      "30  10.1.10.53  84.54.22.33               53\n",
      "32  10.1.10.53  75.75.75.75               53\n",
      "33  10.1.10.53  75.75.75.75               53\n",
      "36  10.1.10.53  84.54.22.33               53\n",
      "38  10.1.10.53  84.54.22.33               53\n",
      "40  10.1.10.53  84.54.22.33               53\n",
      "42  10.1.10.53  84.54.22.33               53\n",
      "44  10.1.10.53  84.54.22.33               53\n",
      "46  10.1.10.53  84.54.22.33               53\n",
      "48  10.1.10.53  84.54.22.33               53\n",
      "50  10.1.10.53  84.54.22.33               53\n",
      "52  10.1.10.53  84.54.22.33               53\n",
      "54  10.1.10.53  84.54.22.33               53\n",
      "56  10.1.10.53  84.54.22.33               53\n",
      "58  10.1.10.53  84.54.22.33               53\n",
      "60  10.1.10.53  84.54.22.33               53\n",
      "62  10.1.10.53  84.54.22.33               53\n",
      "64  10.1.10.53  84.54.22.33               53\n",
      "66  10.1.10.53  84.54.22.33               53\n",
      "68  10.1.10.53  84.54.22.33               53\n",
      "70  10.1.10.53  84.54.22.33               53\n"
     ]
    }
   ],
   "source": [
    "filtered = df[df[\"source\"] == popularSource]\n",
    "print(filtered[[\"source\", \"destination\", \"destinationPort\"]])"
   ]
  },
  {
   "cell_type": "code",
   "execution_count": 6,
   "metadata": {},
   "outputs": [
    {
     "name": "stdout",
     "output_type": "stream",
     "text": [
      "         source destination  destinationPort\n",
      "11  84.54.22.33  10.1.10.53               53\n",
      "13  84.54.22.33  10.1.10.53               53\n",
      "15  84.54.22.33  10.1.10.53               53\n",
      "17  84.54.22.33  10.1.10.53               53\n",
      "19  84.54.22.33  10.1.10.53               53\n",
      "21  84.54.22.33  10.1.10.53               53\n",
      "23  84.54.22.33  10.1.10.53               53\n",
      "25  84.54.22.33  10.1.10.53               53\n",
      "27  84.54.22.33  10.1.10.53               53\n",
      "29  84.54.22.33  10.1.10.53               53\n",
      "31  84.54.22.33  10.1.10.53               53\n",
      "34  75.75.75.75  10.1.10.53            15812\n",
      "35  75.75.75.75  10.1.10.53            23903\n",
      "37  84.54.22.33  10.1.10.53               53\n",
      "39  84.54.22.33  10.1.10.53               53\n",
      "41  84.54.22.33  10.1.10.53               53\n",
      "43  84.54.22.33  10.1.10.53               53\n",
      "45  84.54.22.33  10.1.10.53               53\n",
      "47  84.54.22.33  10.1.10.53               53\n",
      "49  84.54.22.33  10.1.10.53               53\n",
      "51  84.54.22.33  10.1.10.53               53\n",
      "53  84.54.22.33  10.1.10.53               53\n",
      "55  84.54.22.33  10.1.10.53               53\n",
      "57  84.54.22.33  10.1.10.53               53\n",
      "59  84.54.22.33  10.1.10.53               53\n",
      "61  84.54.22.33  10.1.10.53               53\n",
      "63  84.54.22.33  10.1.10.53               53\n",
      "65  84.54.22.33  10.1.10.53               53\n",
      "67  84.54.22.33  10.1.10.53               53\n",
      "69  84.54.22.33  10.1.10.53               53\n",
      "71  84.54.22.33  10.1.10.53               53\n"
     ]
    }
   ],
   "source": [
    "filtered = df[df[\"destination\"] == popularSource]\n",
    "print(filtered[[\"source\", \"destination\", \"destinationPort\"]])"
   ]
  },
  {
   "attachments": {},
   "cell_type": "markdown",
   "metadata": {},
   "source": [
    "Permite crear la conexion entre el cliente y servidor, traduciendo el nombre de dominio a un legible por ip realizando dichas tareas a traves del puerto 53."
   ]
  },
  {
   "cell_type": "code",
   "execution_count": 7,
   "metadata": {},
   "outputs": [
    {
     "name": "stderr",
     "output_type": "stream",
     "text": [
      "C:\\Users\\Oscar Paredez\\AppData\\Local\\Temp\\ipykernel_996\\1965302509.py:1: FutureWarning: The default value of numeric_only in DataFrameGroupBy.sum is deprecated. In a future version, numeric_only will default to False. Either specify numeric_only or select only columns which should be valid for the function.\n",
      "  grouped = df.groupby([\"source\"]).sum()\n"
     ]
    },
    {
     "data": {
      "text/plain": [
       "Text(0, 0.5, 'Source')"
      ]
     },
     "execution_count": 7,
     "metadata": {},
     "output_type": "execute_result"
    },
    {
     "data": {
      "image/png": "[encoded data removed]",
      "text/plain": [
       "<Figure size 640x480 with 1 Axes>"
      ]
     },
     "metadata": {},
     "output_type": "display_data"
    }
   ],
   "source": [
    "grouped = df.groupby([\"source\"]).sum()\n",
    "plt.barh(grouped.index, grouped[\"messageLength\"])\n",
    "plt.xlabel(\"Messages length\")\n",
    "plt.ylabel(\"Source\")"
   ]
  },
  {
   "cell_type": "code",
   "execution_count": 8,
   "metadata": {},
   "outputs": [
    {
     "name": "stderr",
     "output_type": "stream",
     "text": [
      "C:\\Users\\Oscar Paredez\\AppData\\Local\\Temp\\ipykernel_996\\1991463383.py:1: FutureWarning: The default value of numeric_only in DataFrameGroupBy.sum is deprecated. In a future version, numeric_only will default to False. Either specify numeric_only or select only columns which should be valid for the function.\n",
      "  grouped = df.groupby([\"destination\"]).sum()\n"
     ]
    },
    {
     "data": {
      "text/plain": [
       "Text(0, 0.5, 'Destination')"
      ]
     },
     "execution_count": 8,
     "metadata": {},
     "output_type": "execute_result"
    },
    {
     "data": {
      "image/png": "[encoded data removed]",
      "text/plain": [
       "<Figure size 640x480 with 1 Axes>"
      ]
     },
     "metadata": {},
     "output_type": "display_data"
    }
   ],
   "source": [
    "grouped = df.groupby([\"destination\"]).sum()\n",
    "plt.barh(grouped.index, grouped[\"messageLength\"])\n",
    "plt.xlabel(\"Messages length\")\n",
    "plt.ylabel(\"Destination\")"
   ]
  },
  {
   "cell_type": "code",
   "execution_count": 9,
   "metadata": {},
   "outputs": [
    {
     "name": "stderr",
     "output_type": "stream",
     "text": [
      "C:\\Users\\Oscar Paredez\\AppData\\Local\\Temp\\ipykernel_996\\1281391196.py:1: FutureWarning: The default value of numeric_only in DataFrameGroupBy.sum is deprecated. In a future version, numeric_only will default to False. Either specify numeric_only or select only columns which should be valid for the function.\n",
      "  grouped = df.groupby([\"sourcePort\"]).sum()\n"
     ]
    },
    {
     "data": {
      "text/plain": [
       "Text(0, 0.5, 'Origin port')"
      ]
     },
     "execution_count": 9,
     "metadata": {},
     "output_type": "execute_result"
    },
    {
     "data": {
      "image/png": "[encoded data removed]",
      "text/plain": [
       "<Figure size 640x480 with 1 Axes>"
      ]
     },
     "metadata": {},
     "output_type": "display_data"
    }
   ],
   "source": [
    "grouped = df.groupby([\"sourcePort\"]).sum()\n",
    "plt.scatter(grouped[\"messageLength\"], grouped.index)\n",
    "plt.xlabel(\"Messages length\")\n",
    "plt.ylabel(\"Origin port\")"
   ]
  },
  {
   "cell_type": "code",
   "execution_count": 10,
   "metadata": {},
   "outputs": [
    {
     "name": "stderr",
     "output_type": "stream",
     "text": [
      "C:\\Users\\Oscar Paredez\\AppData\\Local\\Temp\\ipykernel_996\\3265121408.py:1: FutureWarning: The default value of numeric_only in DataFrameGroupBy.sum is deprecated. In a future version, numeric_only will default to False. Either specify numeric_only or select only columns which should be valid for the function.\n",
      "  grouped = df.groupby([\"destinationPort\"]).sum()\n"
     ]
    },
    {
     "data": {
      "text/plain": [
       "Text(0, 0.5, 'Destination Port')"
      ]
     },
     "execution_count": 10,
     "metadata": {},
     "output_type": "execute_result"
    },
    {
     "data": {
      "image/png": "[encoded data removed]",
      "text/plain": [
       "<Figure size 640x480 with 1 Axes>"
      ]
     },
     "metadata": {},
     "output_type": "display_data"
    }
   ],
   "source": [
    "grouped = df.groupby([\"destinationPort\"]).sum()\n",
    "plt.scatter(grouped[\"messageLength\"], grouped.index)\n",
    "plt.xlabel(\"Messages length\")\n",
    "plt.ylabel(\"Destination Port\")"
   ]
  },
  {
   "cell_type": "code",
   "execution_count": 11,
   "metadata": {},
   "outputs": [
    {
     "data": {
      "text/html": [
       "<div>\n",
       "<style scoped>\n",
       "    .dataframe tbody tr th:only-of-type {\n",
       "        vertical-align: middle;\n",
       "    }\n",
       "\n",
       "    .dataframe tbody tr th {\n",
       "        vertical-align: top;\n",
       "    }\n",
       "\n",
       "    .dataframe thead th {\n",
       "        text-align: right;\n",
       "    }\n",
       "</style>\n",
       "<table border=\"1\" class=\"dataframe\">\n",
       "  <thead>\n",
       "    <tr style=\"text-align: right;\">\n",
       "      <th></th>\n",
       "      <th>sourcePort</th>\n",
       "      <th>destinationPort</th>\n",
       "      <th>messageLength</th>\n",
       "      <th>source</th>\n",
       "      <th>destination</th>\n",
       "    </tr>\n",
       "  </thead>\n",
       "  <tbody>\n",
       "    <tr>\n",
       "      <th>30</th>\n",
       "      <td>53</td>\n",
       "      <td>53</td>\n",
       "      <td>1023</td>\n",
       "      <td>10.1.10.53</td>\n",
       "      <td>84.54.22.33</td>\n",
       "    </tr>\n",
       "  </tbody>\n",
       "</table>\n",
       "</div>"
      ],
      "text/plain": [
       "    sourcePort  destinationPort  messageLength      source  destination\n",
       "30          53               53           1023  10.1.10.53  84.54.22.33"
      ]
     },
     "execution_count": 11,
     "metadata": {},
     "output_type": "execute_result"
    }
   ],
   "source": [
    "filtered = df[df[\"source\"] == popularSource]\n",
    "payload_filter = filtered[\"messageLength\"].unique()\n",
    "filtered[filtered[\"messageLength\"] == max(payload_filter)]"
   ]
  },
  {
   "cell_type": "code",
   "execution_count": 12,
   "metadata": {},
   "outputs": [],
   "source": [
    "array_max_payload = None\n",
    "\n",
    "for packet in pcap:\n",
    "    if packet.haslayer(UDP):\n",
    "            if array_max_payload == None and len(packet[UDP].payload) == max(payload_filter):\n",
    "                array_max_payload = packet[Raw].load\n",
    "    elif packet.haslayer(TCP):\n",
    "        if  array_max_payload == None and len(packet[TCP].payload) == max(payload_filter):\n",
    "            array_max_payload = packet[Raw].load"
   ]
  },
  {
   "cell_type": "code",
   "execution_count": 13,
   "metadata": {},
   "outputs": [
    {
     "data": {
      "text/plain": [
       "b'\\xef\\xbf\\xbd\\xef\\xbf\\xbd\\xef\\xbf\\xbd<>}\\xef\\xbf\\xbd\\xef\\xbf\\xbd\\xef\\xbf\\xbd%\\xef\\xbf\\xbd\\xef\\xbf\\xbdR\\xef\\xbf\\xbdA\\x08\\xef\\xbf\\xbd\\xef\\xbf\\xbdt\\xef\\xbf\\xbd\\xef\\xbf\\xbd\\xef\\xbf\\xbd\\\\\\x07@c\\xef\\xbf\\xbd-\\xef\\xbf\\xbdG\\xef\\xbf\\xbd9\\xef\\xbf\\xbdu9\\xef\\xbf\\xbd\\xef\\xbf\\xbd\\xef\\xbf\\xbdE%wq\\xef\\xbf\\xbd\\xef\\xbf\\xbd\\x0f\\x0e\\xef\\xbf\\xbd\\xef\\xbf\\xbdo\\xef\\xbf\\xbd\\xef\\xbf\\xbdc\\xef\\xbf\\xbd.\\xef\\xbf\\xbd8\\xef\\xbf\\xbd\\xef\\xbf\\xbd\\xef\\xbf\\xbdg\\xef\\xbf\\xbd\\xef\\xbf\\xbd\\xef\\xbf\\xbd\\n!\\xef\\xbf\\xbd\\xef\\xbf\\xbd.\\xef\\xbf\\xbd|\\xef\\xbf\\xbd\\xef\\xbf\\xbd\\xef\\xbf\\xbd\\x04\\xef\\xbf\\xbdp\\xef\\xbf\\xbd&:\\xef\\xbf\\xbdb=\\x16\\x0f\\x14c\\xef\\xbf\\xbd\\xef\\xbf\\xbdd\\xef\\xbf\\xbd<\\xef\\xbf\\xbd\\xef\\xbf\\xbdW\\xef\\xbf\\xbd\\x08\\x1b\\xe5\\x96\\x8eM\\x1e\\xef\\xbf\\xbd\\xef\\xbf\\xbdR\\xde\\x97\\xef\\xbf\\xbd\\xef\\xbf\\xbd\\\\2\\xe9\\xa0\\x8bB\\xef\\xbf\\xbd\\xef\\xbf\\xbd\\xef\\xbf\\xbd\\xef\\xbf\\xbd\\xef\\xbf\\xbd^\"+#m>r\\x0cR\\x16\\x08)\\x1f(,\\xef\\xbf\\xbd\\xef\\xbf\\xbd\\x1d9\\x07\\xef\\xbf\\xbds\\x1f\\xef\\xbf\\xbd\\r\\xef\\xbf\\xbd\\xef\\xbf\\xbdR\\xef\\xbf\\xbd\\'\\x18~\\xef\\xbf\\xbd\\xef\\xbf\\xbd\\x07\\xef\\xbf\\xbd\\xef\\xbf\\xbd^(:\\xef\\xbf\\xbd\\xd1\\xa5\\xef\\xbf\\xbdQ\\xef\\xbf\\xbd\\x19\\xef\\xbf\\xbdv:\"\\xef\\xbf\\xbd\\xef\\xbf\\xbdg\\xef\\xbf\\xbd\\xef\\xbf\\xbd\\xef\\xbf\\xbdtX\"\\xef\\xbf\\xbdYZG\\xef\\xbf\\xbd\\xef\\xbf\\xbd\\xef\\xbf\\xbd\\xef\\xbf\\xbdp\\xc7\\xa4\\xef\\xbf\\xbd\\x0br\\xef\\xbf\\xbd+\\xef\\xbf\\xbdF\\xef\\xbf\\xbd\\xef\\xbf\\xbdj\\x05\\xe2\\xb9\\xbdg\\xef\\xbf\\xbd\\xef\\xbf\\xbd\\x1cO1\\xef\\xbf\\xbd\\xef\\xbf\\xbd%\\xdd\\x87\\xde\\x8d\\xef\\xbf\\xbd\\xef\\xbf\\xbd\"LI\\xef\\xbf\\xbd\\xef\\xbf\\xbd$\\xef\\xbf\\xbd\\x07\\xef\\xbf\\xbd%\\xef\\xbf\\xbd.b]3!\\xef\\xbf\\xbdE\\xef\\xbf\\xbdk*\\x1d\\x06\\xef\\xbf\\xbd=\\x04\\xef\\xbf\\xbd@@\\xef\\xbf\\xbd\\x14\\xef\\xbf\\xbd\\xef\\xbf\\xbd}\\xef\\xbf\\xbd5\\xef\\xbf\\xbd`\\xef\\xbf\\xbd\\xef\\xbf\\xbd\\xef\\xbf\\xbd\\xef\\xbf\\xbd\\xef\\xbf\\xbd)\\xef\\xbf\\xbd\\xef\\xbf\\xbd\\xc9\\x9cd\\x11\\xef\\xbf\\xbd\\xef\\xbf\\xbd\\x14=\\xd5\\xab\\x162\\xef\\xbf\\xbdc\\xc8\\xb0\\xef\\xbf\\xbd\\x07g\\x15\\xef\\xbf\\xbd\\xef\\xbf\\xbd\\xef\\xbf\\xbdK&\\x11\\xef\\xbf\\xbdb\\xef\\xbf\\xbd\\xef\\xbf\\xbd\\x02\\xef\\xbf\\xbd\\xef\\xbf\\xbd\\xef\\xbf\\xbd\\xef\\xbf\\xbd<@3\\x11\\xef\\xbf\\xbdTD;\\xef\\xbf\\xbd\\xef\\xbf\\xbd%u\\xef\\xbf\\xbdL\\xef\\xbf\\xbd.,.}\\xef\\xbf\\xbdK\\xef\\xbf\\xbd\\xef\\xbf\\xbd\\\\}\\xef\\xbf\\xbd\\xef\\xbf\\xbdm1\\xef\\xbf\\xbd\\xef\\xbf\\xbdEj\\xef\\xbf\\xbd\\xef\\xbf\\xbd\\x15\\xef\\xbf\\xbd]\\xef\\xbf\\xbd\\xef\\xbf\\xbd\\xef\\xbf\\xbd\\xef\\xbf\\xbd\\xef\\xbf\\xbd\\xef\\xbf\\xbd\\xef\\xbf\\xbd\\r\\xcd\\xa1\\xef\\xbf\\xbdL\\xef\\xbf\\xbd:\\xdf\\xb4\\xef\\xbf\\xbdb\\xef\\xbf\\xbd\\xef\\xbf\\xbd;\\xef\\xbf\\xbd\\xef\\xbf\\xbd1\\xef\\xbf\\xbdv\\xef\\xbf\\xbd\\x10\\xef\\xbf\\xbdVR\\xef\\xbf\\xbd\\xef\\xbf\\xbd\"kq\\xef\\xbf\\xbd\\xef\\xbf\\xbd\\xef\\xbf\\xbd\\x03\\xef\\xbf\\xbd\\xc7\\xa77\\x03\\xef\\xbf\\xbd\\xef\\xbf\\xbd\\xef\\xbf\\xbd5\\xef\\xbf\\xbd0)\\xef\\xbf\\xbd\\xef\\xbf\\xbd\\xef\\xbf\\xbd\\xef\\xbf\\xbd\\x1a~\\xef\\xbf\\xbd\\xef\\xbf\\xbd\\x1f\\x0f7\\xc4\\xbe3v\\xef\\xbf\\xbd\\xef\\xbf\\xbd\\xef\\xbf\\xbdC\\xef\\xbf\\xbd\\x1c}j\\xef\\xbf\\xbd&\\xef\\xbf\\xbdB\\xef\\xbf\\xbdy\\xef\\xbf\\xbd/\\x00BA\\x7f\\xef\\xbf\\xbd\\xef\\xbf\\xbd$\\xef\\xbf\\xbd\\xef\\xbf\\xbd\\xef\\xbf\\xbd\\x10XjSI\\xef\\xbf\\xbd\\xef\\xbf\\xbd\\xef\\xbf\\xbd\\xef\\xbf\\xbdS\\xef\\xbf\\xbd\\\\t\\xef\\xbf\\xbd{\\xef\\xbf\\xbdP\\xef\\xbf\\xbdi\\x02\\xef\\xbf\\xbd\\xe7\\x84\\x80\\xef\\xbf\\xbdB\\xef\\xbf\\xbd\\xef\\xbf\\xbd\\xef\\xbf\\xbd\\xef\\xbf\\xbd\\xcf\\xb1\\xef\\xbf\\xbd\\x1eQ\\xef\\xbf\\xbd~\\xef\\xbf\\xbdq\\xef\\xbf\\xbd\\xef\\xbf\\xbd\\xef\\xbf\\xbd\\x03\\x07\\xef\\xbf\\xbdk\\xc6\\xb1\\xef\\xbf\\xbd\\xef\\xbf\\xbdK/\\xef\\xbf\\xbd4\\xef\\xbf\\xbd)R*\\x15\\xef\\xbf\\xbdc\\xef\\xbf\\xbd\\xef\\xbf\\xbd\\xef\\xbf\\xbd\\xef\\xbf\\xbd\\xef\\xbf\\xbd\\xef\\xbf\\xbd\\xef\\xbf\\xbdU\\xef\\xbf\\xbd\\xef\\xbf\\xbd\\xd2\\x87\\x08\\xef\\xbf\\xbd\"\\xef\\xbf\\xbd\\xef\\xbf\\xbd\\x14\\xef\\xbf\\xbd\\x18\\xef\\xbf\\xbd\\xef\\xbf\\xbd\\xef\\xbf\\xbd~\\x16\\xef\\xbf\\xbd\\xef\\xbf\\xbdC3\\xef\\xbf\\xbd'"
      ]
     },
     "execution_count": 13,
     "metadata": {},
     "output_type": "execute_result"
    }
   ],
   "source": [
    "array_max_payload"
   ]
  },
  {
   "cell_type": "code",
   "execution_count": 14,
   "metadata": {},
   "outputs": [
    {
     "data": {
      "text/plain": [
       "'���<>}���%��R�A\\x08��t���\\\\\\x07@c�-�G�9�u9���E%wq��\\x0f\\x0e��o��c�.�8���g���\\n!��.�|���\\x04�p�&:�b=\\x16\\x0f\\x14c��d�<��W�\\x08\\x1b喎M\\x1e��Rޗ��\\\\2頋B�����^\"+#m>r\\x0cR\\x16\\x08)\\x1f(,��\\x1d9\\x07�s\\x1f�\\r��R�\\'\\x18~��\\x07��^(:�ѥ�Q�\\x19�v:\"��g���tX\"�YZG����pǤ�\\x0br�+�F��j\\x05\\u2e7dg��\\x1cO1��%݇ލ��\"LI��$�\\x07�%�.b]3!�E�k*\\x1d\\x06�=\\x04�@@�\\x14��}�5�`�����)��ɜd\\x11��\\x14=ի\\x162�cȰ�\\x07g\\x15���K&\\x11�b��\\x02����<@3\\x11�TD;��%u�L�.,.}�K��\\\\}��m1��Ej��\\x15�]�������\\r͡�L�:ߴ�b��;��1�v�\\x10�VR��\"kq���\\x03�ǧ7\\x03���5�0)����\\x1a~��\\x1f\\x0f7ľ3v���C�\\x1c}j�&�B�y�/\\x00BA\\x7f��$���\\x10XjSI����S�\\\\t�{�P�i\\x02�焀�B����ϱ�\\x1eQ�~�q���\\x03\\x07�kƱ��K/�4�)R*\\x15�c�������U��҇\\x08�\"��\\x14�\\x18���~\\x16��C3�'"
      ]
     },
     "execution_count": 14,
     "metadata": {},
     "output_type": "execute_result"
    }
   ],
   "source": [
    "array_max_payload.decode(\"utf-8\")"
   ]
  },
  {
   "attachments": {},
   "cell_type": "markdown",
   "metadata": {},
   "source": [
    "Como se puede observar en la celda anterior, el resultado de los bytes enviados desde la IP origen mas frecuente a la IP destiono mas frecuente contiene en su mayoria caracteres extraños, es decir, no usuales como caracteres que pertenezcan al alfabeto o que sean digitos."
   ]
  }
 ],
 "metadata": {
  "kernelspec": {
   "display_name": "Python 3",
   "language": "python",
   "name": "python3"
  },
  "language_info": {
   "codemirror_mode": {
    "name": "ipython",
    "version": 3
   },
   "file_extension": ".py",
   "mimetype": "text/x-python",
   "name": "python",
   "nbconvert_exporter": "python",
   "pygments_lexer": "ipython3",
   "version": "3.11.0"
  },
  "orig_nbformat": 4
 },
 "nbformat": 4,
 "nbformat_minor": 2
}
